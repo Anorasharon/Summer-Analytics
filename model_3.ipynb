{
  "nbformat": 4,
  "nbformat_minor": 0,
  "metadata": {
    "colab": {
      "provenance": []
    },
    "kernelspec": {
      "name": "python3",
      "display_name": "Python 3"
    },
    "language_info": {
      "name": "python"
    }
  },
  "cells": [
    {
      "cell_type": "code",
      "execution_count": null,
      "metadata": {
        "id": "vE3IhMleZCii"
      },
      "outputs": [],
      "source": [
        "import pandas as pd\n",
        "import numpy as np\n",
        "import matplotlib.pyplot as plt"
      ]
    },
    {
      "cell_type": "code",
      "source": [
        "alpha = 2.5         # sensitivity factor to occupancy (tune as needed)\n",
        "base_price = 10.0"
      ],
      "metadata": {
        "id": "VNOYFdRdZg_j"
      },
      "execution_count": null,
      "outputs": []
    },
    {
      "cell_type": "code",
      "source": [
        "from google.colab import files\n",
        "uploaded = files.upload()\n",
        "\n",
        "df = pd.read_csv(\"dataset.csv\")"
      ],
      "metadata": {
        "colab": {
          "base_uri": "https://localhost:8080/",
          "height": 73
        },
        "id": "xNlZnjH5Zxu1",
        "outputId": "4cb37dad-fb14-43fe-e14b-f7e0cea55e06"
      },
      "execution_count": null,
      "outputs": [
        {
          "output_type": "display_data",
          "data": {
            "text/plain": [
              "<IPython.core.display.HTML object>"
            ],
            "text/html": [
              "\n",
              "     <input type=\"file\" id=\"files-63786269-c75f-44e3-a9d1-2795b3a4fbf7\" name=\"files[]\" multiple disabled\n",
              "        style=\"border:none\" />\n",
              "     <output id=\"result-63786269-c75f-44e3-a9d1-2795b3a4fbf7\">\n",
              "      Upload widget is only available when the cell has been executed in the\n",
              "      current browser session. Please rerun this cell to enable.\n",
              "      </output>\n",
              "      <script>// Copyright 2017 Google LLC\n",
              "//\n",
              "// Licensed under the Apache License, Version 2.0 (the \"License\");\n",
              "// you may not use this file except in compliance with the License.\n",
              "// You may obtain a copy of the License at\n",
              "//\n",
              "//      http://www.apache.org/licenses/LICENSE-2.0\n",
              "//\n",
              "// Unless required by applicable law or agreed to in writing, software\n",
              "// distributed under the License is distributed on an \"AS IS\" BASIS,\n",
              "// WITHOUT WARRANTIES OR CONDITIONS OF ANY KIND, either express or implied.\n",
              "// See the License for the specific language governing permissions and\n",
              "// limitations under the License.\n",
              "\n",
              "/**\n",
              " * @fileoverview Helpers for google.colab Python module.\n",
              " */\n",
              "(function(scope) {\n",
              "function span(text, styleAttributes = {}) {\n",
              "  const element = document.createElement('span');\n",
              "  element.textContent = text;\n",
              "  for (const key of Object.keys(styleAttributes)) {\n",
              "    element.style[key] = styleAttributes[key];\n",
              "  }\n",
              "  return element;\n",
              "}\n",
              "\n",
              "// Max number of bytes which will be uploaded at a time.\n",
              "const MAX_PAYLOAD_SIZE = 100 * 1024;\n",
              "\n",
              "function _uploadFiles(inputId, outputId) {\n",
              "  const steps = uploadFilesStep(inputId, outputId);\n",
              "  const outputElement = document.getElementById(outputId);\n",
              "  // Cache steps on the outputElement to make it available for the next call\n",
              "  // to uploadFilesContinue from Python.\n",
              "  outputElement.steps = steps;\n",
              "\n",
              "  return _uploadFilesContinue(outputId);\n",
              "}\n",
              "\n",
              "// This is roughly an async generator (not supported in the browser yet),\n",
              "// where there are multiple asynchronous steps and the Python side is going\n",
              "// to poll for completion of each step.\n",
              "// This uses a Promise to block the python side on completion of each step,\n",
              "// then passes the result of the previous step as the input to the next step.\n",
              "function _uploadFilesContinue(outputId) {\n",
              "  const outputElement = document.getElementById(outputId);\n",
              "  const steps = outputElement.steps;\n",
              "\n",
              "  const next = steps.next(outputElement.lastPromiseValue);\n",
              "  return Promise.resolve(next.value.promise).then((value) => {\n",
              "    // Cache the last promise value to make it available to the next\n",
              "    // step of the generator.\n",
              "    outputElement.lastPromiseValue = value;\n",
              "    return next.value.response;\n",
              "  });\n",
              "}\n",
              "\n",
              "/**\n",
              " * Generator function which is called between each async step of the upload\n",
              " * process.\n",
              " * @param {string} inputId Element ID of the input file picker element.\n",
              " * @param {string} outputId Element ID of the output display.\n",
              " * @return {!Iterable<!Object>} Iterable of next steps.\n",
              " */\n",
              "function* uploadFilesStep(inputId, outputId) {\n",
              "  const inputElement = document.getElementById(inputId);\n",
              "  inputElement.disabled = false;\n",
              "\n",
              "  const outputElement = document.getElementById(outputId);\n",
              "  outputElement.innerHTML = '';\n",
              "\n",
              "  const pickedPromise = new Promise((resolve) => {\n",
              "    inputElement.addEventListener('change', (e) => {\n",
              "      resolve(e.target.files);\n",
              "    });\n",
              "  });\n",
              "\n",
              "  const cancel = document.createElement('button');\n",
              "  inputElement.parentElement.appendChild(cancel);\n",
              "  cancel.textContent = 'Cancel upload';\n",
              "  const cancelPromise = new Promise((resolve) => {\n",
              "    cancel.onclick = () => {\n",
              "      resolve(null);\n",
              "    };\n",
              "  });\n",
              "\n",
              "  // Wait for the user to pick the files.\n",
              "  const files = yield {\n",
              "    promise: Promise.race([pickedPromise, cancelPromise]),\n",
              "    response: {\n",
              "      action: 'starting',\n",
              "    }\n",
              "  };\n",
              "\n",
              "  cancel.remove();\n",
              "\n",
              "  // Disable the input element since further picks are not allowed.\n",
              "  inputElement.disabled = true;\n",
              "\n",
              "  if (!files) {\n",
              "    return {\n",
              "      response: {\n",
              "        action: 'complete',\n",
              "      }\n",
              "    };\n",
              "  }\n",
              "\n",
              "  for (const file of files) {\n",
              "    const li = document.createElement('li');\n",
              "    li.append(span(file.name, {fontWeight: 'bold'}));\n",
              "    li.append(span(\n",
              "        `(${file.type || 'n/a'}) - ${file.size} bytes, ` +\n",
              "        `last modified: ${\n",
              "            file.lastModifiedDate ? file.lastModifiedDate.toLocaleDateString() :\n",
              "                                    'n/a'} - `));\n",
              "    const percent = span('0% done');\n",
              "    li.appendChild(percent);\n",
              "\n",
              "    outputElement.appendChild(li);\n",
              "\n",
              "    const fileDataPromise = new Promise((resolve) => {\n",
              "      const reader = new FileReader();\n",
              "      reader.onload = (e) => {\n",
              "        resolve(e.target.result);\n",
              "      };\n",
              "      reader.readAsArrayBuffer(file);\n",
              "    });\n",
              "    // Wait for the data to be ready.\n",
              "    let fileData = yield {\n",
              "      promise: fileDataPromise,\n",
              "      response: {\n",
              "        action: 'continue',\n",
              "      }\n",
              "    };\n",
              "\n",
              "    // Use a chunked sending to avoid message size limits. See b/62115660.\n",
              "    let position = 0;\n",
              "    do {\n",
              "      const length = Math.min(fileData.byteLength - position, MAX_PAYLOAD_SIZE);\n",
              "      const chunk = new Uint8Array(fileData, position, length);\n",
              "      position += length;\n",
              "\n",
              "      const base64 = btoa(String.fromCharCode.apply(null, chunk));\n",
              "      yield {\n",
              "        response: {\n",
              "          action: 'append',\n",
              "          file: file.name,\n",
              "          data: base64,\n",
              "        },\n",
              "      };\n",
              "\n",
              "      let percentDone = fileData.byteLength === 0 ?\n",
              "          100 :\n",
              "          Math.round((position / fileData.byteLength) * 100);\n",
              "      percent.textContent = `${percentDone}% done`;\n",
              "\n",
              "    } while (position < fileData.byteLength);\n",
              "  }\n",
              "\n",
              "  // All done.\n",
              "  yield {\n",
              "    response: {\n",
              "      action: 'complete',\n",
              "    }\n",
              "  };\n",
              "}\n",
              "\n",
              "scope.google = scope.google || {};\n",
              "scope.google.colab = scope.google.colab || {};\n",
              "scope.google.colab._files = {\n",
              "  _uploadFiles,\n",
              "  _uploadFilesContinue,\n",
              "};\n",
              "})(self);\n",
              "</script> "
            ]
          },
          "metadata": {}
        },
        {
          "output_type": "stream",
          "name": "stdout",
          "text": [
            "Saving dataset.csv to dataset.csv\n"
          ]
        }
      ]
    },
    {
      "cell_type": "code",
      "source": [
        "df['price'] = base_price"
      ],
      "metadata": {
        "id": "WYaMrrp-aSn9"
      },
      "execution_count": null,
      "outputs": []
    },
    {
      "cell_type": "code",
      "source": [
        "new_prices = []"
      ],
      "metadata": {
        "id": "gOVBfNd-bmac"
      },
      "execution_count": null,
      "outputs": []
    },
    {
      "cell_type": "code",
      "source": [
        "for lot_id, group in df.groupby('ID'):\n",
        "    price = base_price\n",
        "    prices = []\n",
        "    for _, row in group.iterrows():\n",
        "        occ = row['Occupancy']\n",
        "        cap = row['Capacity']\n",
        "        utilization = occ / cap if cap > 0 else 0\n",
        "        price = price + alpha * utilization\n",
        "        price = max(5, min(30, price))  # bound the price between $5 and $30\n",
        "        prices.append(price)\n",
        "    new_prices.extend(prices)\n"
      ],
      "metadata": {
        "id": "NRFccdAocG7W"
      },
      "execution_count": null,
      "outputs": []
    },
    {
      "cell_type": "code",
      "source": [
        "df['Model1_Price'] = new_prices"
      ],
      "metadata": {
        "id": "2T_MrjJ3cJI9"
      },
      "execution_count": null,
      "outputs": []
    },
    {
      "cell_type": "code",
      "source": [
        "import seaborn as sns\n",
        "plt.figure(figsize=(12, 5))\n",
        "sample_lot = df[df['ID'] == df['ID'].unique()[0]]\n",
        "sns.lineplot(x=sample_lot['timestamp'], y=sample_lot['Model1_Price'])\n",
        "plt.title(f\"Price over time for Lot ID {sample_lot['ID'].iloc[0]}\")\n",
        "plt.xlabel(\"Timestamp\")\n",
        "plt.ylabel(\"Price\")\n",
        "plt.xticks(rotation=45)\n",
        "plt.grid(True)\n",
        "plt.tight_layout()\n",
        "plt.show()"
      ],
      "metadata": {
        "colab": {
          "base_uri": "https://localhost:8080/",
          "height": 507
        },
        "id": "k-SJyNE7cLR8",
        "outputId": "edee4678-ca2e-4500-de8f-063b52ae3a85"
      },
      "execution_count": null,
      "outputs": [
        {
          "output_type": "display_data",
          "data": {
            "text/plain": [
              "<Figure size 1200x500 with 1 Axes>"
            ],
            "image/png": "[encoded data removed]"
          },
          "metadata": {}
        }
      ]
    },
    {
      "cell_type": "code",
      "source": [
        "import pandas as pd\n",
        "import numpy as np\n",
        "import matplotlib.pyplot as plt\n",
        "# Convert relevant columns to numeric (if not already)\n",
        "cols_to_convert = ['Occupancy', 'Capacity', 'QueueLength', 'TrafficConditionNearby', 'IsSpecialDay']\n",
        "for col in cols_to_convert:\n",
        "    df[col] = pd.to_numeric(df[col], errors='coerce')\n",
        "\n",
        "# Convert 'VehicleType' to numerical weights (if needed)\n",
        "vehicle_type_map = {'car': 1.0, 'bike': 0.7, 'truck': 1.3}\n",
        "df['VehicleTypeWeight'] = df['VehicleType'].map(vehicle_type_map).fillna(1.0)\n"
      ],
      "metadata": {
        "id": "QfGERBUDcNZb"
      },
      "execution_count": 20,
      "outputs": []
    },
    {
      "cell_type": "code",
      "source": [
        "df = df.sort_values(by=['ID', 'timestamp'])"
      ],
      "metadata": {
        "id": "BFioQbd4h_ZA"
      },
      "execution_count": 21,
      "outputs": []
    },
    {
      "cell_type": "code",
      "source": [
        "vehicle_weights = {'car': 1.0, 'bike': 0.7, 'truck': 1.5}\n",
        "df['VehicleTypeWeight'] = df['VehicleType'].map(vehicle_weights)"
      ],
      "metadata": {
        "id": "Q2hEcRediBz4"
      },
      "execution_count": 22,
      "outputs": []
    },
    {
      "cell_type": "code",
      "source": [
        "df['VehicleTypeWeight'] = df['VehicleTypeWeight'].fillna(1.0)"
      ],
      "metadata": {
        "id": "6IAbgShEiEUa"
      },
      "execution_count": 23,
      "outputs": []
    },
    {
      "cell_type": "code",
      "source": [
        "df['OccupancyRate'] = df['Occupancy'] / df['Capacity']\n",
        "df['TrafficNormalized'] = df['TrafficConditionNearby'] / df['TrafficConditionNearby'].max()\n",
        "df['QueueNormalized'] = df['QueueLength'] / df['QueueLength'].max()"
      ],
      "metadata": {
        "id": "eYKnjTvgiGY0"
      },
      "execution_count": 24,
      "outputs": []
    },
    {
      "cell_type": "code",
      "source": [
        "alpha = 1.5\n",
        "beta = 0.8\n",
        "gamma = 0.5\n",
        "delta = 0.9\n",
        "epsilon = 1.2\n",
        "lambda_factor = 0.6\n",
        "base_price = 10"
      ],
      "metadata": {
        "id": "8rYU-WFFiIDK"
      },
      "execution_count": 25,
      "outputs": []
    },
    {
      "cell_type": "code",
      "source": [
        "df['RawDemand'] = (\n",
        "    alpha * df['OccupancyRate'] +\n",
        "    beta * df['QueueNormalized'] -\n",
        "    gamma * df['TrafficNormalized'] +\n",
        "    delta * df['IsSpecialDay'] +\n",
        "    epsilon * df['VehicleTypeWeight']\n",
        ")"
      ],
      "metadata": {
        "id": "e-MAkKVrifiT"
      },
      "execution_count": 26,
      "outputs": []
    },
    {
      "cell_type": "code",
      "source": [
        "df['NormalizedDemand'] = (df['RawDemand'] - df['RawDemand'].min()) / (df['RawDemand'].max() - df['RawDemand'].min())"
      ],
      "metadata": {
        "id": "5TqKKtaKihUB"
      },
      "execution_count": 27,
      "outputs": []
    },
    {
      "cell_type": "code",
      "source": [
        "df['Model2_Price'] = base_price * (1 + lambda_factor * df['NormalizedDemand'])\n",
        "df['Model2_Price'] = df['Model2_Price'].clip(lower=5, upper=20)"
      ],
      "metadata": {
        "id": "bzJKRKXsilLM"
      },
      "execution_count": 28,
      "outputs": []
    },
    {
      "cell_type": "code",
      "source": [
        "import seaborn as sns\n",
        "plt.figure(figsize=(12, 5))\n",
        "sample_lot = df[df['ID'] == df['ID'].unique()[0]]\n",
        "sns.lineplot(x=sample_lot['timestamp'], y=sample_lot['Model2_Price'])\n",
        "plt.title(f\"Model 2: Demand-Based Pricing for Lot ID {sample_lot['ID'].iloc[0]}\")\n",
        "plt.xlabel(\"Timestamp\")\n",
        "plt.ylabel(\"Dynamic Price ($)\")\n",
        "plt.xticks(rotation=45)\n",
        "plt.grid(True)\n",
        "plt.tight_layout()\n",
        "plt.show()"
      ],
      "metadata": {
        "colab": {
          "base_uri": "https://localhost:8080/",
          "height": 507
        },
        "id": "1LbfZzDsim2T",
        "outputId": "3e81b871-198a-47df-a1bd-200ead7427db"
      },
      "execution_count": 29,
      "outputs": [
        {
          "output_type": "display_data",
          "data": {
            "text/plain": [
              "<Figure size 1200x500 with 1 Axes>"
            ],
            "image/png": "[encoded data removed]"
          },
          "metadata": {}
        }
      ]
    },
    {
      "cell_type": "code",
      "source": [
        "import numpy as np"
      ],
      "metadata": {
        "id": "AXAIBHOLirjy"
      },
      "execution_count": 30,
      "outputs": []
    },
    {
      "cell_type": "code",
      "source": [
        "def haversine(lat1, lon1, lat2, lon2):\n",
        "    R = 6371  # Earth radius\n",
        "    phi1, phi2 = np.radians(lat1), np.radians(lat2)\n",
        "    delta_phi = np.radians(lat2 - lat1)\n",
        "    delta_lambda = np.radians(lon2 - lon1)\n",
        "    a = np.sin(delta_phi / 2.0)**2 + np.cos(phi1) * np.cos(phi2) * np.sin(delta_lambda / 2.0)**2\n",
        "    return R * 2 * np.arcsin(np.sqrt(a))"
      ],
      "metadata": {
        "id": "zgbOkS6Kj7TZ"
      },
      "execution_count": 31,
      "outputs": []
    },
    {
      "cell_type": "code",
      "source": [
        "parking_lots = df['ID'].unique()\n",
        "base_price = 10\n",
        "lambda_val = 0.25"
      ],
      "metadata": {
        "id": "KXtlvHVFj86u"
      },
      "execution_count": 32,
      "outputs": []
    },
    {
      "cell_type": "code",
      "source": [
        "df['comp_price'] = base_price\n",
        "\n",
        "for t in df['timestamp'].sort_values().unique():\n",
        "    current_data = df[df['timestamp'] == t].copy()\n",
        "\n",
        "    updated_prices = []\n",
        "\n",
        "    for idx, row in current_data.iterrows():\n",
        "        lot_id = row['ID']\n",
        "        lat1, lon1 = row['Latitude'], row['Longitude']\n",
        "        occupancy = float(row['Occupancy'])\n",
        "        capacity = float(row['Capacity'])\n",
        "        queue = float(row['QueueLength'])\n",
        "        traffic = float(row['TrafficConditionNearby'])\n",
        "        special = int(row['IsSpecialDay'])\n",
        "\n",
        "        try:\n",
        "            vtype_weight = {'car': 1, 'bike': 0.7, 'truck': 1.3}[row['VehicleType'].lower()]\n",
        "        except:\n",
        "            vtype_weight = 1.0\n",
        "\n",
        "        demand = (occupancy / capacity) + 0.2*queue - 0.1*traffic + 0.1*special + 0.3*vtype_weight\n",
        "        demand = np.clip(demand, 0, 2)\n",
        "        raw_price = base_price * (1 + lambda_val * demand)\n",
        "\n",
        "        # Check for competitors nearby\n",
        "        nearby_prices = []\n",
        "\n",
        "        for jdx, other in current_data.iterrows():\n",
        "            if row['ID'] == other['ID']:\n",
        "                continue  # skip self\n",
        "\n",
        "            lat2, lon2 = other['Latitude'], other['Longitude']\n",
        "            dist = haversine(lat1, lon1, lat2, lon2)\n",
        "\n",
        "            if dist <= 0.5:  # Within 0.5 km\n",
        "                other_occ = float(other['Occupancy'])\n",
        "                other_cap = float(other['Capacity'])\n",
        "                if other_occ < other_cap * 0.85:  # Available capacity\n",
        "                    nearby_prices.append(other['comp_price'])\n",
        "\n",
        "        if len(nearby_prices) > 0:\n",
        "            avg_nearby = np.mean(nearby_prices)\n",
        "            if (occupancy / capacity) > 0.9 and avg_nearby < raw_price:\n",
        "                # High demand, but nearby cheaper → reroute or lower\n",
        "                raw_price = max(avg_nearby - 0.5, base_price * 0.5)\n",
        "            elif avg_nearby > raw_price:\n",
        "                # Nearby costlier → increase price slightly\n",
        "                raw_price = min(avg_nearby + 0.5, base_price * 2)\n",
        "\n",
        "        updated_prices.append(raw_price)\n",
        "\n",
        "    # Update all rows at this timestamp\n",
        "    df.loc[df['timestamp'] == t, 'comp_price'] = updated_prices"
      ],
      "metadata": {
        "colab": {
          "base_uri": "https://localhost:8080/"
        },
        "id": "UmhS8Kapj-sS",
        "outputId": "c138af89-e231-40f1-bdcb-c493cc5b2973"
      },
      "execution_count": 33,
      "outputs": [
        {
          "output_type": "stream",
          "name": "stderr",
          "text": [
            "/tmp/ipython-input-33-3532878106.py:54: FutureWarning: Setting an item of incompatible dtype is deprecated and will raise an error in a future version of pandas. Value '[np.float64(nan)]' has dtype incompatible with int64, please explicitly cast to a compatible dtype first.\n",
            "  df.loc[df['timestamp'] == t, 'comp_price'] = updated_prices\n"
          ]
        }
      ]
    },
    {
      "cell_type": "code",
      "source": [
        "import matplotlib.pyplot as plt\n",
        "\n",
        "lot_id = df['ID'].unique()[0]  # or any specific parking lot ID\n",
        "lot_data = df[df['ID'] == lot_id]\n",
        "\n",
        "plt.figure(figsize=(12, 6))\n",
        "plt.plot(lot_data['timestamp'], lot_data['Model1_Price'], label='Model 1 (Baseline)')\n",
        "plt.plot(lot_data['timestamp'], lot_data['Model2_Price'], label='Model 2 (Demand-Based)')\n",
        "plt.plot(lot_data['timestamp'], lot_data['comp_price'], label='Model 3 (Competitive)', linestyle='--')\n",
        "plt.xlabel('Time')\n",
        "plt.ylabel('Price')\n",
        "plt.title(f'Parking Lot ID {lot_id} - Price Comparison')\n",
        "plt.legend()\n",
        "plt.grid(True)\n",
        "plt.xticks(rotation=45)\n",
        "plt.tight_layout()\n",
        "plt.show()\n"
      ],
      "metadata": {
        "colab": {
          "base_uri": "https://localhost:8080/",
          "height": 607
        },
        "id": "eQ449EDOkCkk",
        "outputId": "904825e3-1bb2-414a-80b8-1adc342ed01a"
      },
      "execution_count": 36,
      "outputs": [
        {
          "output_type": "display_data",
          "data": {
            "text/plain": [
              "<Figure size 1200x600 with 1 Axes>"
            ],
            "image/png": "[encoded data removed]"
          },
          "metadata": {}
        }
      ]
    },
    {
      "cell_type": "code",
      "source": [
        "df.columns"
      ],
      "metadata": {
        "colab": {
          "base_uri": "https://localhost:8080/"
        },
        "id": "KDUoKT1Gk_lf",
        "outputId": "79fa0579-ba69-41c0-80a1-0bc2869e1634"
      },
      "execution_count": 35,
      "outputs": [
        {
          "output_type": "execute_result",
          "data": {
            "text/plain": [
              "Index(['ID', 'SystemCodeNumber', 'Capacity', 'Latitude', 'Longitude',\n",
              "       'Occupancy', 'VehicleType', 'TrafficConditionNearby', 'QueueLength',\n",
              "       'IsSpecialDay', 'LastUpdatedDate', 'LastUpdatedTime', 'price',\n",
              "       'timestamp', 'Model1_Price', 'VehicleTypeWeight', 'OccupancyRate',\n",
              "       'TrafficNormalized', 'QueueNormalized', 'RawDemand', 'NormalizedDemand',\n",
              "       'Model2_Price', 'comp_price'],\n",
              "      dtype='object')"
            ]
          },
          "metadata": {},
          "execution_count": 35
        }
      ]
    },
    {
      "cell_type": "code",
      "source": [],
      "metadata": {
        "id": "wErPHztalSlA"
      },
      "execution_count": null,
      "outputs": []
    }
  ]
}